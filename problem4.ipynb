{
 "cells": [
  {
   "cell_type": "code",
   "execution_count": 1,
   "metadata": {},
   "outputs": [],
   "source": [
    "import numpy as np\n",
    "from scipy.optimize import minimize"
   ]
  },
  {
   "cell_type": "code",
   "execution_count": 2,
   "metadata": {},
   "outputs": [
    {
     "name": "stdout",
     "output_type": "stream",
     "text": [
      "Estimated parameters: m = 485.09, p = 0.0676, q = 0.7048\n"
     ]
    },
    {
     "name": "stderr",
     "output_type": "stream",
     "text": [
      "C:\\Users\\leons\\AppData\\Local\\Temp/ipykernel_17444/1833357068.py:15: RuntimeWarning: divide by zero encountered in double_scalars\n",
      "  predicted_sales = m * (1 - np.exp(-(p + q) * t)) / (1 + q / p * np.exp(-(p + q) * t))\n"
     ]
    }
   ],
   "source": [
    "# Problem 4\n",
    "# Apple AirPods from 2017 to 2022\n",
    "years = np.array([2017, 2018, 2019, 2020, 2021, 2022])\n",
    "# Unit sales in millions\n",
    "sales = np.array([15, 35, 60, 114, 85, 82])\n",
    "# Cumulative sales\n",
    "cumulative_sales = np.cumsum(sales)\n",
    "\n",
    "# Time period for the model\n",
    "t = np.arange(len(years))\n",
    "\n",
    "# Objective function\n",
    "def bass_model_error(params):\n",
    "    m, p, q = params\n",
    "    predicted_sales = m * (1 - np.exp(-(p + q) * t)) / (1 + q / p * np.exp(-(p + q) * t))\n",
    "    return np.sum((cumulative_sales - predicted_sales) ** 2)\n",
    "\n",
    "# Initial parameter guesses: [m, p, q]\n",
    "initial_params = [200, 0.03, 0.38]\n",
    "\n",
    "# Bounds for the parameters\n",
    "bounds = [(max(cumulative_sales), 1000), (0, 1), (0, 1)]\n",
    "\n",
    "# Minimize the objective function using the 'L-BFGS-B' method\n",
    "result = minimize(bass_model_error, initial_params, bounds=bounds, method='L-BFGS-B')\n",
    "\n",
    "# Extract the estimated parameters\n",
    "m_est, p_est, q_est = result.x\n",
    "\n",
    "if result.success:\n",
    "    print(f\"Estimated parameters: m = {m_est:.2f}, p = {p_est:.4f}, q = {q_est:.4f}\")\n",
    "else:\n",
    "    print(\"Optimization failed:\", result.message)\n"
   ]
  }
 ],
 "metadata": {
  "kernelspec": {
   "display_name": "base",
   "language": "python",
   "name": "python3"
  },
  "language_info": {
   "codemirror_mode": {
    "name": "ipython",
    "version": 3
   },
   "file_extension": ".py",
   "mimetype": "text/x-python",
   "name": "python",
   "nbconvert_exporter": "python",
   "pygments_lexer": "ipython3",
   "version": "3.9.7"
  }
 },
 "nbformat": 4,
 "nbformat_minor": 2
}
